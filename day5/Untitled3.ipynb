{
  "nbformat": 4,
  "nbformat_minor": 0,
  "metadata": {
    "colab": {
      "provenance": []
    },
    "kernelspec": {
      "name": "python3",
      "display_name": "Python 3"
    },
    "language_info": {
      "name": "python"
    }
  },
  "cells": [
    {
      "cell_type": "code",
      "source": [
        "!pip install pandas numpy scikit-learn pytest"
      ],
      "metadata": {
        "colab": {
          "base_uri": "https://localhost:8080/"
        },
        "id": "Er7wpYlPdhGZ",
        "outputId": "22b12368-e25e-47c7-d61f-c93ecb5cd27d"
      },
      "execution_count": 2,
      "outputs": [
        {
          "output_type": "stream",
          "name": "stdout",
          "text": [
            "Requirement already satisfied: pandas in /usr/local/lib/python3.11/dist-packages (2.2.2)\n",
            "Requirement already satisfied: numpy in /usr/local/lib/python3.11/dist-packages (2.0.2)\n",
            "Requirement already satisfied: scikit-learn in /usr/local/lib/python3.11/dist-packages (1.6.1)\n",
            "Requirement already satisfied: pytest in /usr/local/lib/python3.11/dist-packages (8.3.5)\n",
            "Requirement already satisfied: python-dateutil>=2.8.2 in /usr/local/lib/python3.11/dist-packages (from pandas) (2.9.0.post0)\n",
            "Requirement already satisfied: pytz>=2020.1 in /usr/local/lib/python3.11/dist-packages (from pandas) (2025.2)\n",
            "Requirement already satisfied: tzdata>=2022.7 in /usr/local/lib/python3.11/dist-packages (from pandas) (2025.2)\n",
            "Requirement already satisfied: scipy>=1.6.0 in /usr/local/lib/python3.11/dist-packages (from scikit-learn) (1.15.3)\n",
            "Requirement already satisfied: joblib>=1.2.0 in /usr/local/lib/python3.11/dist-packages (from scikit-learn) (1.5.0)\n",
            "Requirement already satisfied: threadpoolctl>=3.1.0 in /usr/local/lib/python3.11/dist-packages (from scikit-learn) (3.6.0)\n",
            "Requirement already satisfied: iniconfig in /usr/local/lib/python3.11/dist-packages (from pytest) (2.1.0)\n",
            "Requirement already satisfied: packaging in /usr/local/lib/python3.11/dist-packages (from pytest) (24.2)\n",
            "Requirement already satisfied: pluggy<2,>=1.5 in /usr/local/lib/python3.11/dist-packages (from pytest) (1.5.0)\n",
            "Requirement already satisfied: six>=1.5 in /usr/local/lib/python3.11/dist-packages (from python-dateutil>=2.8.2->pandas) (1.17.0)\n"
          ]
        }
      ]
    },
    {
      "cell_type": "code",
      "execution_count": 5,
      "metadata": {
        "colab": {
          "base_uri": "https://localhost:8080/"
        },
        "id": "pFCLI7-Bcr40",
        "outputId": "3e11f99e-4ce4-46ca-dbe3-1972115aecac"
      },
      "outputs": [
        {
          "output_type": "stream",
          "name": "stdout",
          "text": [
            "Accuracy: 0.8101\n",
            "Inference Time: 0.0156 seconds\n",
            "Reproducible: True\n"
          ]
        }
      ],
      "source": [
        "import pandas as pd\n",
        "import numpy as np\n",
        "import os\n",
        "import pickle\n",
        "import time\n",
        "\n",
        "from sklearn.ensemble import RandomForestClassifier\n",
        "from sklearn.model_selection import train_test_split\n",
        "from sklearn.metrics import accuracy_score\n",
        "from sklearn.impute import SimpleImputer\n",
        "from sklearn.preprocessing import OneHotEncoder, StandardScaler\n",
        "from sklearn.compose import ColumnTransformer\n",
        "from sklearn.pipeline import Pipeline\n",
        "\n",
        "# データ読み込み\n",
        "import pandas as pd\n",
        "\n",
        "url = \"https://raw.githubusercontent.com/yuriemaeda/lecture-ai-engineering/master/day5/%E6%BC%94%E7%BF%923/data/Titanic.csv\"\n",
        "df = pd.read_csv(url)\n",
        "\n",
        "# 前処理パイプライン\n",
        "def create_preprocessor():\n",
        "    numeric_features = [\"Age\", \"Pclass\", \"SibSp\", \"Parch\", \"Fare\"]\n",
        "    categorical_features = [\"Sex\", \"Embarked\"]\n",
        "\n",
        "    numeric_transformer = Pipeline([\n",
        "        (\"imputer\", SimpleImputer(strategy=\"median\")),\n",
        "        (\"scaler\", StandardScaler()),\n",
        "    ])\n",
        "\n",
        "    categorical_transformer = Pipeline([\n",
        "        (\"imputer\", SimpleImputer(strategy=\"most_frequent\")),\n",
        "        (\"onehot\", OneHotEncoder(handle_unknown=\"ignore\")),\n",
        "    ])\n",
        "\n",
        "    preprocessor = ColumnTransformer([\n",
        "        (\"num\", numeric_transformer, numeric_features),\n",
        "        (\"cat\", categorical_transformer, categorical_features),\n",
        "    ])\n",
        "\n",
        "    return preprocessor\n",
        "\n",
        "# 学習＆評価\n",
        "def train_and_evaluate(df):  # ← df を引数で受け取るように変更\n",
        "    X = df.drop(\"Survived\", axis=1)\n",
        "    y = df[\"Survived\"].astype(int)\n",
        "    X_train, X_test, y_train, y_test = train_test_split(X, y, test_size=0.2, random_state=42)\n",
        "\n",
        "    preprocessor = create_preprocessor()\n",
        "    model = Pipeline([\n",
        "        (\"preprocessor\", preprocessor),\n",
        "        (\"classifier\", RandomForestClassifier(n_estimators=100, random_state=42)),\n",
        "    ])\n",
        "\n",
        "    model.fit(X_train, y_train)\n",
        "\n",
        "    # 精度\n",
        "    y_pred = model.predict(X_test)\n",
        "    acc = accuracy_score(y_test, y_pred)\n",
        "    print(f\"Accuracy: {acc:.4f}\")\n",
        "\n",
        "    # 推論時間\n",
        "    start = time.time()\n",
        "    model.predict(X_test)\n",
        "    end = time.time()\n",
        "    print(f\"Inference Time: {end - start:.4f} seconds\")\n",
        "\n",
        "    # 再現性チェック\n",
        "    model2 = Pipeline([\n",
        "        (\"preprocessor\", preprocessor),\n",
        "        (\"classifier\", RandomForestClassifier(n_estimators=100, random_state=42)),\n",
        "    ])\n",
        "    model2.fit(X_train, y_train)\n",
        "    y_pred2 = model2.predict(X_test)\n",
        "    print(\"Reproducible:\", np.array_equal(y_pred, y_pred2))\n",
        "\n",
        "# 実行\n",
        "train_and_evaluate(df)"
      ]
    }
  ]
}